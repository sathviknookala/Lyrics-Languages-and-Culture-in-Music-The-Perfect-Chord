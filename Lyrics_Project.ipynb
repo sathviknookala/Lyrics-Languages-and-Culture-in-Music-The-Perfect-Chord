{
  "cells": [
    {
      "attachments": {},
      "cell_type": "markdown",
      "metadata": {
        "id": "k1bzXMOzupb0"
      },
      "source": [
        "# Lyrics, Languages, and Culture in Music: The Perfect Chord\n",
        "This data is a list of lyrics from 1950 to 2019 describing music metadata as sadness, danceability, loudness, acousticness, etc.\n",
        "\n",
        "This data was sourced from: https://www.kaggle.com/datasets/saurabhshahane/music-dataset-1950-to-2019."
      ]
    },
    {
      "cell_type": "code",
      "execution_count": null,
      "metadata": {
        "id": "V2vOwD3WuAgK"
      },
      "outputs": [],
      "source": [
        "#@title Load your dataset\n",
        "import pandas as pd\n",
        "\n",
        "music_lyrics = pd.read_csv('https://storage.googleapis.com/inspirit-ai-data-bucket-1/Data/AI%20%2B%20X/Group/Arts%20%26%20Music/Music%20Lyrics/music_lyrics.csv')"
      ]
    },
    {
      "cell_type": "code",
      "execution_count": null,
      "metadata": {
        "id": "5Bbzn-xx7LUE"
      },
      "outputs": [],
      "source": [
        "import numpy as np\n",
        "import pandas as pd"
      ]
    },
    {
      "cell_type": "code",
      "execution_count": null,
      "metadata": {
        "colab": {
          "base_uri": "https://localhost:8080/",
          "height": 1000
        },
        "id": "mSoQE012uQbU",
        "outputId": "7d639c20-c689-4138-d9fb-52cfe1e5c39a"
      },
      "outputs": [
        {
          "data": {
            "text/html": [
              "\n",
              "  <div id=\"df-80d1efc0-1643-4201-b699-b8b7150a2435\">\n",
              "    <div class=\"colab-df-container\">\n",
              "      <div>\n",
              "<style scoped>\n",
              "    .dataframe tbody tr th:only-of-type {\n",
              "        vertical-align: middle;\n",
              "    }\n",
              "\n",
              "    .dataframe tbody tr th {\n",
              "        vertical-align: top;\n",
              "    }\n",
              "\n",
              "    .dataframe thead th {\n",
              "        text-align: right;\n",
              "    }\n",
              "</style>\n",
              "<table border=\"1\" class=\"dataframe\">\n",
              "  <thead>\n",
              "    <tr style=\"text-align: right;\">\n",
              "      <th></th>\n",
              "      <th>Unnamed: 0</th>\n",
              "      <th>artist_name</th>\n",
              "      <th>track_name</th>\n",
              "      <th>release_date</th>\n",
              "      <th>genre</th>\n",
              "      <th>lyrics</th>\n",
              "      <th>len</th>\n",
              "      <th>dating</th>\n",
              "      <th>violence</th>\n",
              "      <th>world/life</th>\n",
              "      <th>...</th>\n",
              "      <th>sadness</th>\n",
              "      <th>feelings</th>\n",
              "      <th>danceability</th>\n",
              "      <th>loudness</th>\n",
              "      <th>acousticness</th>\n",
              "      <th>instrumentalness</th>\n",
              "      <th>valence</th>\n",
              "      <th>energy</th>\n",
              "      <th>topic</th>\n",
              "      <th>age</th>\n",
              "    </tr>\n",
              "  </thead>\n",
              "  <tbody>\n",
              "    <tr>\n",
              "      <th>0</th>\n",
              "      <td>0</td>\n",
              "      <td>mukesh</td>\n",
              "      <td>mohabbat bhi jhoothi</td>\n",
              "      <td>1950</td>\n",
              "      <td>pop</td>\n",
              "      <td>hold time feel break feel untrue convince spea...</td>\n",
              "      <td>95</td>\n",
              "      <td>0.000598</td>\n",
              "      <td>0.063746</td>\n",
              "      <td>0.000598</td>\n",
              "      <td>...</td>\n",
              "      <td>0.380299</td>\n",
              "      <td>0.117175</td>\n",
              "      <td>0.357739</td>\n",
              "      <td>0.454119</td>\n",
              "      <td>0.997992</td>\n",
              "      <td>0.901822</td>\n",
              "      <td>0.339448</td>\n",
              "      <td>0.137110</td>\n",
              "      <td>sadness</td>\n",
              "      <td>1.000000</td>\n",
              "    </tr>\n",
              "    <tr>\n",
              "      <th>1</th>\n",
              "      <td>4</td>\n",
              "      <td>frankie laine</td>\n",
              "      <td>i believe</td>\n",
              "      <td>1950</td>\n",
              "      <td>pop</td>\n",
              "      <td>believe drop rain fall grow believe darkest ni...</td>\n",
              "      <td>51</td>\n",
              "      <td>0.035537</td>\n",
              "      <td>0.096777</td>\n",
              "      <td>0.443435</td>\n",
              "      <td>...</td>\n",
              "      <td>0.001284</td>\n",
              "      <td>0.001284</td>\n",
              "      <td>0.331745</td>\n",
              "      <td>0.647540</td>\n",
              "      <td>0.954819</td>\n",
              "      <td>0.000002</td>\n",
              "      <td>0.325021</td>\n",
              "      <td>0.263240</td>\n",
              "      <td>world/life</td>\n",
              "      <td>1.000000</td>\n",
              "    </tr>\n",
              "    <tr>\n",
              "      <th>2</th>\n",
              "      <td>6</td>\n",
              "      <td>johnnie ray</td>\n",
              "      <td>cry</td>\n",
              "      <td>1950</td>\n",
              "      <td>pop</td>\n",
              "      <td>sweetheart send letter goodbye secret feel bet...</td>\n",
              "      <td>24</td>\n",
              "      <td>0.002770</td>\n",
              "      <td>0.002770</td>\n",
              "      <td>0.002770</td>\n",
              "      <td>...</td>\n",
              "      <td>0.002770</td>\n",
              "      <td>0.225422</td>\n",
              "      <td>0.456298</td>\n",
              "      <td>0.585288</td>\n",
              "      <td>0.840361</td>\n",
              "      <td>0.000000</td>\n",
              "      <td>0.351814</td>\n",
              "      <td>0.139112</td>\n",
              "      <td>music</td>\n",
              "      <td>1.000000</td>\n",
              "    </tr>\n",
              "    <tr>\n",
              "      <th>3</th>\n",
              "      <td>10</td>\n",
              "      <td>pérez prado</td>\n",
              "      <td>patricia</td>\n",
              "      <td>1950</td>\n",
              "      <td>pop</td>\n",
              "      <td>kiss lips want stroll charm mambo chacha merin...</td>\n",
              "      <td>54</td>\n",
              "      <td>0.048249</td>\n",
              "      <td>0.001548</td>\n",
              "      <td>0.001548</td>\n",
              "      <td>...</td>\n",
              "      <td>0.225889</td>\n",
              "      <td>0.001548</td>\n",
              "      <td>0.686992</td>\n",
              "      <td>0.744404</td>\n",
              "      <td>0.083935</td>\n",
              "      <td>0.199393</td>\n",
              "      <td>0.775350</td>\n",
              "      <td>0.743736</td>\n",
              "      <td>romantic</td>\n",
              "      <td>1.000000</td>\n",
              "    </tr>\n",
              "    <tr>\n",
              "      <th>4</th>\n",
              "      <td>12</td>\n",
              "      <td>giorgos papadopoulos</td>\n",
              "      <td>apopse eida oneiro</td>\n",
              "      <td>1950</td>\n",
              "      <td>pop</td>\n",
              "      <td>till darling till matter know till dream live ...</td>\n",
              "      <td>48</td>\n",
              "      <td>0.001350</td>\n",
              "      <td>0.001350</td>\n",
              "      <td>0.417772</td>\n",
              "      <td>...</td>\n",
              "      <td>0.068800</td>\n",
              "      <td>0.001350</td>\n",
              "      <td>0.291671</td>\n",
              "      <td>0.646489</td>\n",
              "      <td>0.975904</td>\n",
              "      <td>0.000246</td>\n",
              "      <td>0.597073</td>\n",
              "      <td>0.394375</td>\n",
              "      <td>romantic</td>\n",
              "      <td>1.000000</td>\n",
              "    </tr>\n",
              "    <tr>\n",
              "      <th>...</th>\n",
              "      <td>...</td>\n",
              "      <td>...</td>\n",
              "      <td>...</td>\n",
              "      <td>...</td>\n",
              "      <td>...</td>\n",
              "      <td>...</td>\n",
              "      <td>...</td>\n",
              "      <td>...</td>\n",
              "      <td>...</td>\n",
              "      <td>...</td>\n",
              "      <td>...</td>\n",
              "      <td>...</td>\n",
              "      <td>...</td>\n",
              "      <td>...</td>\n",
              "      <td>...</td>\n",
              "      <td>...</td>\n",
              "      <td>...</td>\n",
              "      <td>...</td>\n",
              "      <td>...</td>\n",
              "      <td>...</td>\n",
              "      <td>...</td>\n",
              "    </tr>\n",
              "    <tr>\n",
              "      <th>28367</th>\n",
              "      <td>82447</td>\n",
              "      <td>mack 10</td>\n",
              "      <td>10 million ways</td>\n",
              "      <td>2019</td>\n",
              "      <td>hip hop</td>\n",
              "      <td>cause fuck leave scar tick tock clock come kno...</td>\n",
              "      <td>78</td>\n",
              "      <td>0.001350</td>\n",
              "      <td>0.001350</td>\n",
              "      <td>0.001350</td>\n",
              "      <td>...</td>\n",
              "      <td>0.065664</td>\n",
              "      <td>0.001350</td>\n",
              "      <td>0.889527</td>\n",
              "      <td>0.759711</td>\n",
              "      <td>0.062549</td>\n",
              "      <td>0.000000</td>\n",
              "      <td>0.751649</td>\n",
              "      <td>0.695686</td>\n",
              "      <td>obscene</td>\n",
              "      <td>0.014286</td>\n",
              "    </tr>\n",
              "    <tr>\n",
              "      <th>28368</th>\n",
              "      <td>82448</td>\n",
              "      <td>m.o.p.</td>\n",
              "      <td>ante up (robbin hoodz theory)</td>\n",
              "      <td>2019</td>\n",
              "      <td>hip hop</td>\n",
              "      <td>minks things chain ring braclets yap fame come...</td>\n",
              "      <td>67</td>\n",
              "      <td>0.001284</td>\n",
              "      <td>0.001284</td>\n",
              "      <td>0.035338</td>\n",
              "      <td>...</td>\n",
              "      <td>0.001284</td>\n",
              "      <td>0.001284</td>\n",
              "      <td>0.662082</td>\n",
              "      <td>0.789580</td>\n",
              "      <td>0.004607</td>\n",
              "      <td>0.000002</td>\n",
              "      <td>0.922712</td>\n",
              "      <td>0.797791</td>\n",
              "      <td>obscene</td>\n",
              "      <td>0.014286</td>\n",
              "    </tr>\n",
              "    <tr>\n",
              "      <th>28369</th>\n",
              "      <td>82449</td>\n",
              "      <td>nine</td>\n",
              "      <td>whutcha want?</td>\n",
              "      <td>2019</td>\n",
              "      <td>hip hop</td>\n",
              "      <td>get ban get ban stick crack relax plan attack ...</td>\n",
              "      <td>77</td>\n",
              "      <td>0.001504</td>\n",
              "      <td>0.154302</td>\n",
              "      <td>0.168988</td>\n",
              "      <td>...</td>\n",
              "      <td>0.001504</td>\n",
              "      <td>0.001504</td>\n",
              "      <td>0.663165</td>\n",
              "      <td>0.726970</td>\n",
              "      <td>0.104417</td>\n",
              "      <td>0.000001</td>\n",
              "      <td>0.838211</td>\n",
              "      <td>0.767761</td>\n",
              "      <td>obscene</td>\n",
              "      <td>0.014286</td>\n",
              "    </tr>\n",
              "    <tr>\n",
              "      <th>28370</th>\n",
              "      <td>82450</td>\n",
              "      <td>will smith</td>\n",
              "      <td>switch</td>\n",
              "      <td>2019</td>\n",
              "      <td>hip hop</td>\n",
              "      <td>check check yeah yeah hear thing call switch g...</td>\n",
              "      <td>67</td>\n",
              "      <td>0.001196</td>\n",
              "      <td>0.001196</td>\n",
              "      <td>0.001196</td>\n",
              "      <td>...</td>\n",
              "      <td>0.001196</td>\n",
              "      <td>0.001196</td>\n",
              "      <td>0.883028</td>\n",
              "      <td>0.786888</td>\n",
              "      <td>0.007027</td>\n",
              "      <td>0.000503</td>\n",
              "      <td>0.508450</td>\n",
              "      <td>0.885882</td>\n",
              "      <td>obscene</td>\n",
              "      <td>0.014286</td>\n",
              "    </tr>\n",
              "    <tr>\n",
              "      <th>28371</th>\n",
              "      <td>82451</td>\n",
              "      <td>jeezy</td>\n",
              "      <td>r.i.p.</td>\n",
              "      <td>2019</td>\n",
              "      <td>hip hop</td>\n",
              "      <td>remix killer alive remix thriller trap bitch s...</td>\n",
              "      <td>83</td>\n",
              "      <td>0.001012</td>\n",
              "      <td>0.075202</td>\n",
              "      <td>0.001012</td>\n",
              "      <td>...</td>\n",
              "      <td>0.001012</td>\n",
              "      <td>0.033995</td>\n",
              "      <td>0.828875</td>\n",
              "      <td>0.674794</td>\n",
              "      <td>0.015862</td>\n",
              "      <td>0.000000</td>\n",
              "      <td>0.475474</td>\n",
              "      <td>0.492477</td>\n",
              "      <td>obscene</td>\n",
              "      <td>0.014286</td>\n",
              "    </tr>\n",
              "  </tbody>\n",
              "</table>\n",
              "<p>28372 rows × 31 columns</p>\n",
              "</div>\n",
              "      <button class=\"colab-df-convert\" onclick=\"convertToInteractive('df-80d1efc0-1643-4201-b699-b8b7150a2435')\"\n",
              "              title=\"Convert this dataframe to an interactive table.\"\n",
              "              style=\"display:none;\">\n",
              "        \n",
              "  <svg xmlns=\"http://www.w3.org/2000/svg\" height=\"24px\"viewBox=\"0 0 24 24\"\n",
              "       width=\"24px\">\n",
              "    <path d=\"M0 0h24v24H0V0z\" fill=\"none\"/>\n",
              "    <path d=\"M18.56 5.44l.94 2.06.94-2.06 2.06-.94-2.06-.94-.94-2.06-.94 2.06-2.06.94zm-11 1L8.5 8.5l.94-2.06 2.06-.94-2.06-.94L8.5 2.5l-.94 2.06-2.06.94zm10 10l.94 2.06.94-2.06 2.06-.94-2.06-.94-.94-2.06-.94 2.06-2.06.94z\"/><path d=\"M17.41 7.96l-1.37-1.37c-.4-.4-.92-.59-1.43-.59-.52 0-1.04.2-1.43.59L10.3 9.45l-7.72 7.72c-.78.78-.78 2.05 0 2.83L4 21.41c.39.39.9.59 1.41.59.51 0 1.02-.2 1.41-.59l7.78-7.78 2.81-2.81c.8-.78.8-2.07 0-2.86zM5.41 20L4 18.59l7.72-7.72 1.47 1.35L5.41 20z\"/>\n",
              "  </svg>\n",
              "      </button>\n",
              "      \n",
              "  <style>\n",
              "    .colab-df-container {\n",
              "      display:flex;\n",
              "      flex-wrap:wrap;\n",
              "      gap: 12px;\n",
              "    }\n",
              "\n",
              "    .colab-df-convert {\n",
              "      background-color: #E8F0FE;\n",
              "      border: none;\n",
              "      border-radius: 50%;\n",
              "      cursor: pointer;\n",
              "      display: none;\n",
              "      fill: #1967D2;\n",
              "      height: 32px;\n",
              "      padding: 0 0 0 0;\n",
              "      width: 32px;\n",
              "    }\n",
              "\n",
              "    .colab-df-convert:hover {\n",
              "      background-color: #E2EBFA;\n",
              "      box-shadow: 0px 1px 2px rgba(60, 64, 67, 0.3), 0px 1px 3px 1px rgba(60, 64, 67, 0.15);\n",
              "      fill: #174EA6;\n",
              "    }\n",
              "\n",
              "    [theme=dark] .colab-df-convert {\n",
              "      background-color: #3B4455;\n",
              "      fill: #D2E3FC;\n",
              "    }\n",
              "\n",
              "    [theme=dark] .colab-df-convert:hover {\n",
              "      background-color: #434B5C;\n",
              "      box-shadow: 0px 1px 3px 1px rgba(0, 0, 0, 0.15);\n",
              "      filter: drop-shadow(0px 1px 2px rgba(0, 0, 0, 0.3));\n",
              "      fill: #FFFFFF;\n",
              "    }\n",
              "  </style>\n",
              "\n",
              "      <script>\n",
              "        const buttonEl =\n",
              "          document.querySelector('#df-80d1efc0-1643-4201-b699-b8b7150a2435 button.colab-df-convert');\n",
              "        buttonEl.style.display =\n",
              "          google.colab.kernel.accessAllowed ? 'block' : 'none';\n",
              "\n",
              "        async function convertToInteractive(key) {\n",
              "          const element = document.querySelector('#df-80d1efc0-1643-4201-b699-b8b7150a2435');\n",
              "          const dataTable =\n",
              "            await google.colab.kernel.invokeFunction('convertToInteractive',\n",
              "                                                     [key], {});\n",
              "          if (!dataTable) return;\n",
              "\n",
              "          const docLinkHtml = 'Like what you see? Visit the ' +\n",
              "            '<a target=\"_blank\" href=https://colab.research.google.com/notebooks/data_table.ipynb>data table notebook</a>'\n",
              "            + ' to learn more about interactive tables.';\n",
              "          element.innerHTML = '';\n",
              "          dataTable['output_type'] = 'display_data';\n",
              "          await google.colab.output.renderOutput(dataTable, element);\n",
              "          const docLink = document.createElement('div');\n",
              "          docLink.innerHTML = docLinkHtml;\n",
              "          element.appendChild(docLink);\n",
              "        }\n",
              "      </script>\n",
              "    </div>\n",
              "  </div>\n",
              "  "
            ],
            "text/plain": [
              "       Unnamed: 0           artist_name                     track_name  \\\n",
              "0               0                mukesh           mohabbat bhi jhoothi   \n",
              "1               4         frankie laine                      i believe   \n",
              "2               6           johnnie ray                            cry   \n",
              "3              10           pérez prado                       patricia   \n",
              "4              12  giorgos papadopoulos             apopse eida oneiro   \n",
              "...           ...                   ...                            ...   \n",
              "28367       82447               mack 10                10 million ways   \n",
              "28368       82448                m.o.p.  ante up (robbin hoodz theory)   \n",
              "28369       82449                  nine                  whutcha want?   \n",
              "28370       82450            will smith                         switch   \n",
              "28371       82451                 jeezy                         r.i.p.   \n",
              "\n",
              "       release_date    genre  \\\n",
              "0              1950      pop   \n",
              "1              1950      pop   \n",
              "2              1950      pop   \n",
              "3              1950      pop   \n",
              "4              1950      pop   \n",
              "...             ...      ...   \n",
              "28367          2019  hip hop   \n",
              "28368          2019  hip hop   \n",
              "28369          2019  hip hop   \n",
              "28370          2019  hip hop   \n",
              "28371          2019  hip hop   \n",
              "\n",
              "                                                  lyrics  len    dating  \\\n",
              "0      hold time feel break feel untrue convince spea...   95  0.000598   \n",
              "1      believe drop rain fall grow believe darkest ni...   51  0.035537   \n",
              "2      sweetheart send letter goodbye secret feel bet...   24  0.002770   \n",
              "3      kiss lips want stroll charm mambo chacha merin...   54  0.048249   \n",
              "4      till darling till matter know till dream live ...   48  0.001350   \n",
              "...                                                  ...  ...       ...   \n",
              "28367  cause fuck leave scar tick tock clock come kno...   78  0.001350   \n",
              "28368  minks things chain ring braclets yap fame come...   67  0.001284   \n",
              "28369  get ban get ban stick crack relax plan attack ...   77  0.001504   \n",
              "28370  check check yeah yeah hear thing call switch g...   67  0.001196   \n",
              "28371  remix killer alive remix thriller trap bitch s...   83  0.001012   \n",
              "\n",
              "       violence  world/life  ...   sadness  feelings  danceability  loudness  \\\n",
              "0      0.063746    0.000598  ...  0.380299  0.117175      0.357739  0.454119   \n",
              "1      0.096777    0.443435  ...  0.001284  0.001284      0.331745  0.647540   \n",
              "2      0.002770    0.002770  ...  0.002770  0.225422      0.456298  0.585288   \n",
              "3      0.001548    0.001548  ...  0.225889  0.001548      0.686992  0.744404   \n",
              "4      0.001350    0.417772  ...  0.068800  0.001350      0.291671  0.646489   \n",
              "...         ...         ...  ...       ...       ...           ...       ...   \n",
              "28367  0.001350    0.001350  ...  0.065664  0.001350      0.889527  0.759711   \n",
              "28368  0.001284    0.035338  ...  0.001284  0.001284      0.662082  0.789580   \n",
              "28369  0.154302    0.168988  ...  0.001504  0.001504      0.663165  0.726970   \n",
              "28370  0.001196    0.001196  ...  0.001196  0.001196      0.883028  0.786888   \n",
              "28371  0.075202    0.001012  ...  0.001012  0.033995      0.828875  0.674794   \n",
              "\n",
              "       acousticness  instrumentalness   valence    energy       topic  \\\n",
              "0          0.997992          0.901822  0.339448  0.137110     sadness   \n",
              "1          0.954819          0.000002  0.325021  0.263240  world/life   \n",
              "2          0.840361          0.000000  0.351814  0.139112       music   \n",
              "3          0.083935          0.199393  0.775350  0.743736    romantic   \n",
              "4          0.975904          0.000246  0.597073  0.394375    romantic   \n",
              "...             ...               ...       ...       ...         ...   \n",
              "28367      0.062549          0.000000  0.751649  0.695686     obscene   \n",
              "28368      0.004607          0.000002  0.922712  0.797791     obscene   \n",
              "28369      0.104417          0.000001  0.838211  0.767761     obscene   \n",
              "28370      0.007027          0.000503  0.508450  0.885882     obscene   \n",
              "28371      0.015862          0.000000  0.475474  0.492477     obscene   \n",
              "\n",
              "            age  \n",
              "0      1.000000  \n",
              "1      1.000000  \n",
              "2      1.000000  \n",
              "3      1.000000  \n",
              "4      1.000000  \n",
              "...         ...  \n",
              "28367  0.014286  \n",
              "28368  0.014286  \n",
              "28369  0.014286  \n",
              "28370  0.014286  \n",
              "28371  0.014286  \n",
              "\n",
              "[28372 rows x 31 columns]"
            ]
          },
          "execution_count": 3,
          "metadata": {},
          "output_type": "execute_result"
        }
      ],
      "source": [
        "music_lyrics"
      ]
    },
    {
      "cell_type": "code",
      "execution_count": null,
      "metadata": {
        "id": "ecC6M-xmnrZG"
      },
      "outputs": [],
      "source": [
        "del music_lyrics['Unnamed: 0']"
      ]
    },
    {
      "cell_type": "code",
      "execution_count": null,
      "metadata": {
        "colab": {
          "base_uri": "https://localhost:8080/"
        },
        "id": "e_DwQBjLMUw1",
        "outputId": "90223133-b7fc-4f3f-db14-1878ce2b7439"
      },
      "outputs": [
        {
          "data": {
            "text/plain": [
              "RangeIndex(start=0, stop=28372, step=1)"
            ]
          },
          "execution_count": 5,
          "metadata": {},
          "output_type": "execute_result"
        }
      ],
      "source": [
        "nineties = []\n",
        "for i in music_lyrics['release_date']:\n",
        "  if(i <= 2000 and i >= 1990):\n",
        "    nineties.append(i)\n",
        "\n",
        "music_lyrics.index"
      ]
    },
    {
      "cell_type": "code",
      "execution_count": null,
      "metadata": {
        "colab": {
          "base_uri": "https://localhost:8080/"
        },
        "id": "n1P33PpHNya4",
        "outputId": "cb4dbd5c-e5cb-40b0-ef08-0b0926658072"
      },
      "outputs": [
        {
          "data": {
            "text/plain": [
              "0                 mohabbat bhi jhoothi\n",
              "1                            i believe\n",
              "2                                  cry\n",
              "3                             patricia\n",
              "4                   apopse eida oneiro\n",
              "                     ...              \n",
              "28367                  10 million ways\n",
              "28368    ante up (robbin hoodz theory)\n",
              "28369                    whutcha want?\n",
              "28370                           switch\n",
              "28371                           r.i.p.\n",
              "Name: track_name, Length: 28372, dtype: object"
            ]
          },
          "execution_count": 6,
          "metadata": {},
          "output_type": "execute_result"
        }
      ],
      "source": [
        "music_lyrics['track_name']"
      ]
    },
    {
      "cell_type": "code",
      "execution_count": null,
      "metadata": {
        "colab": {
          "base_uri": "https://localhost:8080/",
          "height": 423
        },
        "id": "XP5Ue0TH39Nv",
        "outputId": "f2c7e8e8-6823-4d59-d733-ad1c89f61e57"
      },
      "outputs": [
        {
          "data": {
            "text/html": [
              "\n",
              "  <div id=\"df-5490f9a1-848c-4c80-a99f-cba8b1917fa8\">\n",
              "    <div class=\"colab-df-container\">\n",
              "      <div>\n",
              "<style scoped>\n",
              "    .dataframe tbody tr th:only-of-type {\n",
              "        vertical-align: middle;\n",
              "    }\n",
              "\n",
              "    .dataframe tbody tr th {\n",
              "        vertical-align: top;\n",
              "    }\n",
              "\n",
              "    .dataframe thead th {\n",
              "        text-align: right;\n",
              "    }\n",
              "</style>\n",
              "<table border=\"1\" class=\"dataframe\">\n",
              "  <thead>\n",
              "    <tr style=\"text-align: right;\">\n",
              "      <th></th>\n",
              "      <th>Shake the Audience</th>\n",
              "    </tr>\n",
              "  </thead>\n",
              "  <tbody>\n",
              "    <tr>\n",
              "      <th>0</th>\n",
              "      <td>2.150036</td>\n",
              "    </tr>\n",
              "    <tr>\n",
              "      <th>1</th>\n",
              "      <td>2.573724</td>\n",
              "    </tr>\n",
              "    <tr>\n",
              "      <th>2</th>\n",
              "      <td>2.512718</td>\n",
              "    </tr>\n",
              "    <tr>\n",
              "      <th>3</th>\n",
              "      <td>4.383199</td>\n",
              "    </tr>\n",
              "    <tr>\n",
              "      <th>4</th>\n",
              "      <td>10.383784</td>\n",
              "    </tr>\n",
              "    <tr>\n",
              "      <th>...</th>\n",
              "      <td>...</td>\n",
              "    </tr>\n",
              "    <tr>\n",
              "      <th>5927</th>\n",
              "      <td>6.597238</td>\n",
              "    </tr>\n",
              "    <tr>\n",
              "      <th>5928</th>\n",
              "      <td>5.641452</td>\n",
              "    </tr>\n",
              "    <tr>\n",
              "      <th>5929</th>\n",
              "      <td>3.382863</td>\n",
              "    </tr>\n",
              "    <tr>\n",
              "      <th>5930</th>\n",
              "      <td>3.975547</td>\n",
              "    </tr>\n",
              "    <tr>\n",
              "      <th>5931</th>\n",
              "      <td>4.835881</td>\n",
              "    </tr>\n",
              "  </tbody>\n",
              "</table>\n",
              "<p>5932 rows × 1 columns</p>\n",
              "</div>\n",
              "      <button class=\"colab-df-convert\" onclick=\"convertToInteractive('df-5490f9a1-848c-4c80-a99f-cba8b1917fa8')\"\n",
              "              title=\"Convert this dataframe to an interactive table.\"\n",
              "              style=\"display:none;\">\n",
              "        \n",
              "  <svg xmlns=\"http://www.w3.org/2000/svg\" height=\"24px\"viewBox=\"0 0 24 24\"\n",
              "       width=\"24px\">\n",
              "    <path d=\"M0 0h24v24H0V0z\" fill=\"none\"/>\n",
              "    <path d=\"M18.56 5.44l.94 2.06.94-2.06 2.06-.94-2.06-.94-.94-2.06-.94 2.06-2.06.94zm-11 1L8.5 8.5l.94-2.06 2.06-.94-2.06-.94L8.5 2.5l-.94 2.06-2.06.94zm10 10l.94 2.06.94-2.06 2.06-.94-2.06-.94-.94-2.06-.94 2.06-2.06.94z\"/><path d=\"M17.41 7.96l-1.37-1.37c-.4-.4-.92-.59-1.43-.59-.52 0-1.04.2-1.43.59L10.3 9.45l-7.72 7.72c-.78.78-.78 2.05 0 2.83L4 21.41c.39.39.9.59 1.41.59.51 0 1.02-.2 1.41-.59l7.78-7.78 2.81-2.81c.8-.78.8-2.07 0-2.86zM5.41 20L4 18.59l7.72-7.72 1.47 1.35L5.41 20z\"/>\n",
              "  </svg>\n",
              "      </button>\n",
              "      \n",
              "  <style>\n",
              "    .colab-df-container {\n",
              "      display:flex;\n",
              "      flex-wrap:wrap;\n",
              "      gap: 12px;\n",
              "    }\n",
              "\n",
              "    .colab-df-convert {\n",
              "      background-color: #E8F0FE;\n",
              "      border: none;\n",
              "      border-radius: 50%;\n",
              "      cursor: pointer;\n",
              "      display: none;\n",
              "      fill: #1967D2;\n",
              "      height: 32px;\n",
              "      padding: 0 0 0 0;\n",
              "      width: 32px;\n",
              "    }\n",
              "\n",
              "    .colab-df-convert:hover {\n",
              "      background-color: #E2EBFA;\n",
              "      box-shadow: 0px 1px 2px rgba(60, 64, 67, 0.3), 0px 1px 3px 1px rgba(60, 64, 67, 0.15);\n",
              "      fill: #174EA6;\n",
              "    }\n",
              "\n",
              "    [theme=dark] .colab-df-convert {\n",
              "      background-color: #3B4455;\n",
              "      fill: #D2E3FC;\n",
              "    }\n",
              "\n",
              "    [theme=dark] .colab-df-convert:hover {\n",
              "      background-color: #434B5C;\n",
              "      box-shadow: 0px 1px 3px 1px rgba(0, 0, 0, 0.15);\n",
              "      filter: drop-shadow(0px 1px 2px rgba(0, 0, 0, 0.3));\n",
              "      fill: #FFFFFF;\n",
              "    }\n",
              "  </style>\n",
              "\n",
              "      <script>\n",
              "        const buttonEl =\n",
              "          document.querySelector('#df-5490f9a1-848c-4c80-a99f-cba8b1917fa8 button.colab-df-convert');\n",
              "        buttonEl.style.display =\n",
              "          google.colab.kernel.accessAllowed ? 'block' : 'none';\n",
              "\n",
              "        async function convertToInteractive(key) {\n",
              "          const element = document.querySelector('#df-5490f9a1-848c-4c80-a99f-cba8b1917fa8');\n",
              "          const dataTable =\n",
              "            await google.colab.kernel.invokeFunction('convertToInteractive',\n",
              "                                                     [key], {});\n",
              "          if (!dataTable) return;\n",
              "\n",
              "          const docLinkHtml = 'Like what you see? Visit the ' +\n",
              "            '<a target=\"_blank\" href=https://colab.research.google.com/notebooks/data_table.ipynb>data table notebook</a>'\n",
              "            + ' to learn more about interactive tables.';\n",
              "          element.innerHTML = '';\n",
              "          dataTable['output_type'] = 'display_data';\n",
              "          await google.colab.output.renderOutput(dataTable, element);\n",
              "          const docLink = document.createElement('div');\n",
              "          docLink.innerHTML = docLinkHtml;\n",
              "          element.appendChild(docLink);\n",
              "        }\n",
              "      </script>\n",
              "    </div>\n",
              "  </div>\n",
              "  "
            ],
            "text/plain": [
              "      Shake the Audience\n",
              "0               2.150036\n",
              "1               2.573724\n",
              "2               2.512718\n",
              "3               4.383199\n",
              "4              10.383784\n",
              "...                  ...\n",
              "5927            6.597238\n",
              "5928            5.641452\n",
              "5929            3.382863\n",
              "5930            3.975547\n",
              "5931            4.835881\n",
              "\n",
              "[5932 rows x 1 columns]"
            ]
          },
          "execution_count": 7,
          "metadata": {},
          "output_type": "execute_result"
        }
      ],
      "source": [
        "audience_score = []\n",
        "for i in music_lyrics['shake the audience']:\n",
        "  if(i > 0.02):\n",
        "    audience_score.append(i * 100)\n",
        "\n",
        "audience_shake = pd.DataFrame(audience_score, columns = ['Shake the Audience'])\n",
        "\n",
        "audience_shake"
      ]
    },
    {
      "cell_type": "markdown",
      "metadata": {
        "id": "RU68Yseu84Zz"
      },
      "source": [
        "### FastText (Facebook)"
      ]
    },
    {
      "cell_type": "code",
      "execution_count": null,
      "metadata": {
        "colab": {
          "base_uri": "https://localhost:8080/"
        },
        "id": "7pld4ygH78pz",
        "outputId": "74a5e42e-2378-491c-8915-41b3e6ce4a9e"
      },
      "outputs": [
        {
          "name": "stdout",
          "output_type": "stream",
          "text": [
            "Looking in indexes: https://pypi.org/simple, https://us-python.pkg.dev/colab-wheels/public/simple/\n",
            "Collecting fasttext\n",
            "  Downloading fasttext-0.9.2.tar.gz (68 kB)\n",
            "\u001b[2K     \u001b[90m━━━━━━━━━━━━━━━━━━━━━━━━━━━━━━━━━━━━━━━━\u001b[0m \u001b[32m68.8/68.8 kB\u001b[0m \u001b[31m2.6 MB/s\u001b[0m eta \u001b[36m0:00:00\u001b[0m\n",
            "\u001b[?25h  Preparing metadata (setup.py) ... \u001b[?25l\u001b[?25hdone\n",
            "Collecting pybind11>=2.2 (from fasttext)\n",
            "  Using cached pybind11-2.10.4-py3-none-any.whl (222 kB)\n",
            "Requirement already satisfied: setuptools>=0.7.0 in /usr/local/lib/python3.10/dist-packages (from fasttext) (67.7.2)\n",
            "Requirement already satisfied: numpy in /usr/local/lib/python3.10/dist-packages (from fasttext) (1.22.4)\n",
            "Building wheels for collected packages: fasttext\n",
            "  Building wheel for fasttext (setup.py) ... \u001b[?25l\u001b[?25hdone\n",
            "  Created wheel for fasttext: filename=fasttext-0.9.2-cp310-cp310-linux_x86_64.whl size=4393329 sha256=a9df6a0be912844212759c7c46e46de652fd9f46023c0dfaf270e5429ba3505e\n",
            "  Stored in directory: /root/.cache/pip/wheels/a5/13/75/f811c84a8ab36eedbaef977a6a58a98990e8e0f1967f98f394\n",
            "Successfully built fasttext\n",
            "Installing collected packages: pybind11, fasttext\n",
            "Successfully installed fasttext-0.9.2 pybind11-2.10.4\n"
          ]
        }
      ],
      "source": [
        "!pip install fasttext"
      ]
    },
    {
      "cell_type": "code",
      "execution_count": null,
      "metadata": {
        "colab": {
          "base_uri": "https://localhost:8080/"
        },
        "id": "J4TZPHSonBUs",
        "outputId": "c3b68420-9762-4c8c-9a02-9f8a348014fd"
      },
      "outputs": [
        {
          "name": "stdout",
          "output_type": "stream",
          "text": [
            "--2023-06-18 05:39:53--  https://dl.fbaipublicfiles.com/fasttext/supervised-models/lid.176.bin\n",
            "Resolving dl.fbaipublicfiles.com (dl.fbaipublicfiles.com)... 108.157.162.83, 108.157.162.108, 108.157.162.120, ...\n",
            "Connecting to dl.fbaipublicfiles.com (dl.fbaipublicfiles.com)|108.157.162.83|:443... connected.\n",
            "HTTP request sent, awaiting response... 200 OK\n",
            "Length: 131266198 (125M) [application/octet-stream]\n",
            "Saving to: ‘lid.176.bin’\n",
            "\n",
            "lid.176.bin         100%[===================>] 125.18M   119MB/s    in 1.1s    \n",
            "\n",
            "2023-06-18 05:39:55 (119 MB/s) - ‘lid.176.bin’ saved [131266198/131266198]\n",
            "\n"
          ]
        }
      ],
      "source": [
        "!wget \"https://dl.fbaipublicfiles.com/fasttext/supervised-models/lid.176.bin\""
      ]
    },
    {
      "cell_type": "code",
      "execution_count": null,
      "metadata": {
        "colab": {
          "base_uri": "https://localhost:8080/"
        },
        "id": "GtSBJhr779Qe",
        "outputId": "85746ddc-9f1f-4145-d823-de7689d88a1b"
      },
      "outputs": [
        {
          "name": "stderr",
          "output_type": "stream",
          "text": [
            "Warning : `load_model` does not return WordVectorModel or SupervisedModel any more, but a `FastText` object which is very similar.\n"
          ]
        }
      ],
      "source": [
        "import fasttext as ft\n",
        "# Load the pretrained model\n",
        "ft_model = ft.load_model(\"lid.176.bin\")\n",
        "\n",
        "def fasttext_language_predict(text, model = ft_model):\n",
        "\n",
        "  text = text.replace('\\n', \" \")\n",
        "  prediction = model.predict([text])\n",
        "\n",
        "  return prediction"
      ]
    },
    {
      "cell_type": "code",
      "execution_count": null,
      "metadata": {
        "id": "LgiDVvCM8Jen"
      },
      "outputs": [],
      "source": [
        "music_lyrics['ft-lang'] = music_lyrics['track_name'].apply(lambda x: fasttext_language_predict(x)[0][0][0].split('_')[-1])"
      ]
    },
    {
      "cell_type": "code",
      "execution_count": null,
      "metadata": {
        "id": "2xWAhYex_tP2"
      },
      "outputs": [],
      "source": [
        "counts = np.unique(music_lyrics['ft-lang'], return_counts=True)\n",
        "counts = list(zip(counts[0], counts[1]))\n",
        "highest_counts = [x for x in counts if x[1]>99]"
      ]
    },
    {
      "cell_type": "code",
      "execution_count": null,
      "metadata": {
        "id": "SniZW7imBecD"
      },
      "outputs": [],
      "source": [
        "our_langs = [x[0] for x in highest_counts]"
      ]
    },
    {
      "cell_type": "code",
      "execution_count": null,
      "metadata": {
        "colab": {
          "base_uri": "https://localhost:8080/"
        },
        "id": "kJvwMLKwCU6o",
        "outputId": "0522f728-bb16-4a1b-a2a3-d95f284f7b0f"
      },
      "outputs": [
        {
          "data": {
            "text/plain": [
              "['de', 'en', 'es', 'fr', 'it', 'nl', 'pl', 'pt', 'ru', 'sv']"
            ]
          },
          "execution_count": 14,
          "metadata": {},
          "output_type": "execute_result"
        }
      ],
      "source": [
        "our_langs"
      ]
    },
    {
      "cell_type": "code",
      "execution_count": null,
      "metadata": {
        "colab": {
          "base_uri": "https://localhost:8080/"
        },
        "id": "ijBugakGEX6U",
        "outputId": "8544929b-f20a-4b21-f277-efbfa17b129a"
      },
      "outputs": [
        {
          "data": {
            "text/plain": [
              "Index(['artist_name', 'track_name', 'release_date', 'genre', 'lyrics', 'len',\n",
              "       'dating', 'violence', 'world/life', 'night/time', 'shake the audience',\n",
              "       'family/gospel', 'romantic', 'communication', 'obscene', 'music',\n",
              "       'movement/places', 'light/visual perceptions', 'family/spiritual',\n",
              "       'like/girls', 'sadness', 'feelings', 'danceability', 'loudness',\n",
              "       'acousticness', 'instrumentalness', 'valence', 'energy', 'topic', 'age',\n",
              "       'ft-lang'],\n",
              "      dtype='object')"
            ]
          },
          "execution_count": 15,
          "metadata": {},
          "output_type": "execute_result"
        }
      ],
      "source": [
        "music_lyrics.columns"
      ]
    },
    {
      "cell_type": "code",
      "execution_count": null,
      "metadata": {
        "id": "S-hlegI_EmkU"
      },
      "outputs": [],
      "source": [
        "top_ten = music_lyrics.loc[music_lyrics['ft-lang'].isin(our_langs), :]"
      ]
    },
    {
      "cell_type": "code",
      "execution_count": null,
      "metadata": {
        "colab": {
          "base_uri": "https://localhost:8080/"
        },
        "id": "ktfw_ah9KqhH",
        "outputId": "92699351-5e72-4c15-b61e-b31155de8584"
      },
      "outputs": [
        {
          "name": "stderr",
          "output_type": "stream",
          "text": [
            "<ipython-input-17-46961da3cb1c>:3: SettingWithCopyWarning: \n",
            "A value is trying to be set on a copy of a slice from a DataFrame.\n",
            "Try using .loc[row_indexer,col_indexer] = value instead\n",
            "\n",
            "See the caveats in the documentation: https://pandas.pydata.org/pandas-docs/stable/user_guide/indexing.html#returning-a-view-versus-a-copy\n",
            "  top_ten[column] = (top_ten[column] - np.mean(top_ten[column])) / np.std(top_ten[column])\n"
          ]
        }
      ],
      "source": [
        "#z score\n",
        "for column in ['dating', 'romantic', 'sadness', 'like/girls']:\n",
        "  top_ten[column] = (top_ten[column] - np.mean(top_ten[column])) / np.std(top_ten[column])"
      ]
    },
    {
      "cell_type": "code",
      "execution_count": null,
      "metadata": {
        "colab": {
          "base_uri": "https://localhost:8080/",
          "height": 467
        },
        "id": "C_LMqqecFwt3",
        "outputId": "80b61290-158a-4b85-8f46-fae5665c8ae7"
      },
      "outputs": [
        {
          "name": "stderr",
          "output_type": "stream",
          "text": [
            "<ipython-input-18-7ad1a26459df>:1: SettingWithCopyWarning: \n",
            "A value is trying to be set on a copy of a slice from a DataFrame.\n",
            "Try using .loc[row_indexer,col_indexer] = value instead\n",
            "\n",
            "See the caveats in the documentation: https://pandas.pydata.org/pandas-docs/stable/user_guide/indexing.html#returning-a-view-versus-a-copy\n",
            "  top_ten['love'] = top_ten['dating'] + top_ten['romantic'] + top_ten['sadness'] + top_ten['like/girls']\n"
          ]
        },
        {
          "data": {
            "text/html": [
              "\n",
              "  <div id=\"df-1a2b22a7-9bd0-44f7-8db0-bc8cea9269df\">\n",
              "    <div class=\"colab-df-container\">\n",
              "      <div>\n",
              "<style scoped>\n",
              "    .dataframe tbody tr th:only-of-type {\n",
              "        vertical-align: middle;\n",
              "    }\n",
              "\n",
              "    .dataframe tbody tr th {\n",
              "        vertical-align: top;\n",
              "    }\n",
              "\n",
              "    .dataframe thead th {\n",
              "        text-align: right;\n",
              "    }\n",
              "</style>\n",
              "<table border=\"1\" class=\"dataframe\">\n",
              "  <thead>\n",
              "    <tr style=\"text-align: right;\">\n",
              "      <th></th>\n",
              "      <th>ft-lang</th>\n",
              "      <th>dating</th>\n",
              "      <th>romantic</th>\n",
              "      <th>sadness</th>\n",
              "      <th>like/girls</th>\n",
              "      <th>love</th>\n",
              "    </tr>\n",
              "  </thead>\n",
              "  <tbody>\n",
              "    <tr>\n",
              "      <th>0</th>\n",
              "      <td>de</td>\n",
              "      <td>-124.0</td>\n",
              "      <td>-52.0</td>\n",
              "      <td>-102.0</td>\n",
              "      <td>-56.0</td>\n",
              "      <td>-335.0</td>\n",
              "    </tr>\n",
              "    <tr>\n",
              "      <th>8</th>\n",
              "      <td>ru</td>\n",
              "      <td>-74.0</td>\n",
              "      <td>-132.0</td>\n",
              "      <td>-63.0</td>\n",
              "      <td>-25.0</td>\n",
              "      <td>-294.0</td>\n",
              "    </tr>\n",
              "    <tr>\n",
              "      <th>6</th>\n",
              "      <td>pl</td>\n",
              "      <td>30.0</td>\n",
              "      <td>-16.0</td>\n",
              "      <td>-136.0</td>\n",
              "      <td>-107.0</td>\n",
              "      <td>-231.0</td>\n",
              "    </tr>\n",
              "    <tr>\n",
              "      <th>9</th>\n",
              "      <td>sv</td>\n",
              "      <td>5.0</td>\n",
              "      <td>-49.0</td>\n",
              "      <td>-136.0</td>\n",
              "      <td>-19.0</td>\n",
              "      <td>-199.0</td>\n",
              "    </tr>\n",
              "    <tr>\n",
              "      <th>7</th>\n",
              "      <td>pt</td>\n",
              "      <td>-127.0</td>\n",
              "      <td>262.0</td>\n",
              "      <td>-227.0</td>\n",
              "      <td>-76.0</td>\n",
              "      <td>-168.0</td>\n",
              "    </tr>\n",
              "    <tr>\n",
              "      <th>4</th>\n",
              "      <td>it</td>\n",
              "      <td>5.0</td>\n",
              "      <td>38.0</td>\n",
              "      <td>-245.0</td>\n",
              "      <td>121.0</td>\n",
              "      <td>-81.0</td>\n",
              "    </tr>\n",
              "    <tr>\n",
              "      <th>3</th>\n",
              "      <td>fr</td>\n",
              "      <td>38.0</td>\n",
              "      <td>-67.0</td>\n",
              "      <td>-51.0</td>\n",
              "      <td>9.0</td>\n",
              "      <td>-70.0</td>\n",
              "    </tr>\n",
              "    <tr>\n",
              "      <th>1</th>\n",
              "      <td>en</td>\n",
              "      <td>2.0</td>\n",
              "      <td>-0.0</td>\n",
              "      <td>9.0</td>\n",
              "      <td>-3.0</td>\n",
              "      <td>8.0</td>\n",
              "    </tr>\n",
              "    <tr>\n",
              "      <th>5</th>\n",
              "      <td>nl</td>\n",
              "      <td>-53.0</td>\n",
              "      <td>111.0</td>\n",
              "      <td>-1.0</td>\n",
              "      <td>90.0</td>\n",
              "      <td>147.0</td>\n",
              "    </tr>\n",
              "    <tr>\n",
              "      <th>2</th>\n",
              "      <td>es</td>\n",
              "      <td>39.0</td>\n",
              "      <td>37.0</td>\n",
              "      <td>-50.0</td>\n",
              "      <td>168.0</td>\n",
              "      <td>194.0</td>\n",
              "    </tr>\n",
              "  </tbody>\n",
              "</table>\n",
              "</div>\n",
              "      <button class=\"colab-df-convert\" onclick=\"convertToInteractive('df-1a2b22a7-9bd0-44f7-8db0-bc8cea9269df')\"\n",
              "              title=\"Convert this dataframe to an interactive table.\"\n",
              "              style=\"display:none;\">\n",
              "        \n",
              "  <svg xmlns=\"http://www.w3.org/2000/svg\" height=\"24px\"viewBox=\"0 0 24 24\"\n",
              "       width=\"24px\">\n",
              "    <path d=\"M0 0h24v24H0V0z\" fill=\"none\"/>\n",
              "    <path d=\"M18.56 5.44l.94 2.06.94-2.06 2.06-.94-2.06-.94-.94-2.06-.94 2.06-2.06.94zm-11 1L8.5 8.5l.94-2.06 2.06-.94-2.06-.94L8.5 2.5l-.94 2.06-2.06.94zm10 10l.94 2.06.94-2.06 2.06-.94-2.06-.94-.94-2.06-.94 2.06-2.06.94z\"/><path d=\"M17.41 7.96l-1.37-1.37c-.4-.4-.92-.59-1.43-.59-.52 0-1.04.2-1.43.59L10.3 9.45l-7.72 7.72c-.78.78-.78 2.05 0 2.83L4 21.41c.39.39.9.59 1.41.59.51 0 1.02-.2 1.41-.59l7.78-7.78 2.81-2.81c.8-.78.8-2.07 0-2.86zM5.41 20L4 18.59l7.72-7.72 1.47 1.35L5.41 20z\"/>\n",
              "  </svg>\n",
              "      </button>\n",
              "      \n",
              "  <style>\n",
              "    .colab-df-container {\n",
              "      display:flex;\n",
              "      flex-wrap:wrap;\n",
              "      gap: 12px;\n",
              "    }\n",
              "\n",
              "    .colab-df-convert {\n",
              "      background-color: #E8F0FE;\n",
              "      border: none;\n",
              "      border-radius: 50%;\n",
              "      cursor: pointer;\n",
              "      display: none;\n",
              "      fill: #1967D2;\n",
              "      height: 32px;\n",
              "      padding: 0 0 0 0;\n",
              "      width: 32px;\n",
              "    }\n",
              "\n",
              "    .colab-df-convert:hover {\n",
              "      background-color: #E2EBFA;\n",
              "      box-shadow: 0px 1px 2px rgba(60, 64, 67, 0.3), 0px 1px 3px 1px rgba(60, 64, 67, 0.15);\n",
              "      fill: #174EA6;\n",
              "    }\n",
              "\n",
              "    [theme=dark] .colab-df-convert {\n",
              "      background-color: #3B4455;\n",
              "      fill: #D2E3FC;\n",
              "    }\n",
              "\n",
              "    [theme=dark] .colab-df-convert:hover {\n",
              "      background-color: #434B5C;\n",
              "      box-shadow: 0px 1px 3px 1px rgba(0, 0, 0, 0.15);\n",
              "      filter: drop-shadow(0px 1px 2px rgba(0, 0, 0, 0.3));\n",
              "      fill: #FFFFFF;\n",
              "    }\n",
              "  </style>\n",
              "\n",
              "      <script>\n",
              "        const buttonEl =\n",
              "          document.querySelector('#df-1a2b22a7-9bd0-44f7-8db0-bc8cea9269df button.colab-df-convert');\n",
              "        buttonEl.style.display =\n",
              "          google.colab.kernel.accessAllowed ? 'block' : 'none';\n",
              "\n",
              "        async function convertToInteractive(key) {\n",
              "          const element = document.querySelector('#df-1a2b22a7-9bd0-44f7-8db0-bc8cea9269df');\n",
              "          const dataTable =\n",
              "            await google.colab.kernel.invokeFunction('convertToInteractive',\n",
              "                                                     [key], {});\n",
              "          if (!dataTable) return;\n",
              "\n",
              "          const docLinkHtml = 'Like what you see? Visit the ' +\n",
              "            '<a target=\"_blank\" href=https://colab.research.google.com/notebooks/data_table.ipynb>data table notebook</a>'\n",
              "            + ' to learn more about interactive tables.';\n",
              "          element.innerHTML = '';\n",
              "          dataTable['output_type'] = 'display_data';\n",
              "          await google.colab.output.renderOutput(dataTable, element);\n",
              "          const docLink = document.createElement('div');\n",
              "          docLink.innerHTML = docLinkHtml;\n",
              "          element.appendChild(docLink);\n",
              "        }\n",
              "      </script>\n",
              "    </div>\n",
              "  </div>\n",
              "  "
            ],
            "text/plain": [
              "  ft-lang  dating  romantic  sadness  like/girls   love\n",
              "0      de  -124.0     -52.0   -102.0       -56.0 -335.0\n",
              "8      ru   -74.0    -132.0    -63.0       -25.0 -294.0\n",
              "6      pl    30.0     -16.0   -136.0      -107.0 -231.0\n",
              "9      sv     5.0     -49.0   -136.0       -19.0 -199.0\n",
              "7      pt  -127.0     262.0   -227.0       -76.0 -168.0\n",
              "4      it     5.0      38.0   -245.0       121.0  -81.0\n",
              "3      fr    38.0     -67.0    -51.0         9.0  -70.0\n",
              "1      en     2.0      -0.0      9.0        -3.0    8.0\n",
              "5      nl   -53.0     111.0     -1.0        90.0  147.0\n",
              "2      es    39.0      37.0    -50.0       168.0  194.0"
            ]
          },
          "metadata": {},
          "output_type": "display_data"
        }
      ],
      "source": [
        "top_ten['love'] = top_ten['dating'] + top_ten['romantic'] + top_ten['sadness'] + top_ten['like/girls']\n",
        "grouped = (top_ten\n",
        "           .groupby(by='ft-lang', as_index = False)\n",
        "           .agg({'dating':'mean',\n",
        "                 'romantic':'mean',\n",
        "                 'sadness':'mean',\n",
        "                 'like/girls': 'mean',\n",
        "                 'love':'mean',\n",
        "                 })\n",
        ")\n",
        "grouped['dating'] *= 1000\n",
        "grouped['romantic'] *= 1000\n",
        "grouped['sadness'] *= 1000\n",
        "grouped['like/girls'] *= 1000\n",
        "grouped['love'] *= 1000\n",
        "display(grouped.sort_values(by='love').round())\n",
        "\n"
      ]
    },
    {
      "cell_type": "code",
      "execution_count": null,
      "metadata": {
        "colab": {
          "base_uri": "https://localhost:8080/"
        },
        "id": "9uTpCnjMv8cY",
        "outputId": "7ad671e2-bb60-42ca-ba02-e3094469277c"
      },
      "outputs": [
        {
          "data": {
            "text/plain": [
              "102.9"
            ]
          },
          "execution_count": 19,
          "metadata": {},
          "output_type": "execute_result"
        }
      ],
      "source": [
        "differences = [-335.0, -294.0, -231.0, -199.0, -168.0, -81.0, -70.0, 8.0, 147.0, 194.0]\n",
        "abs(sum(differences)/(len(differences)))\n"
      ]
    },
    {
      "cell_type": "markdown",
      "metadata": {
        "id": "wuwgo1-HcnZc"
      },
      "source": [
        "## Imports and function definitions"
      ]
    },
    {
      "cell_type": "code",
      "execution_count": null,
      "metadata": {
        "colab": {
          "base_uri": "https://localhost:8080/"
        },
        "id": "-adYpPQqTLNB",
        "outputId": "fab62032-0bb6-418e-a069-e30a738cb007"
      },
      "outputs": [
        {
          "name": "stdout",
          "output_type": "stream",
          "text": [
            "25276\n",
            "89.08783307486254\n"
          ]
        },
        {
          "data": {
            "text/plain": [
              "28372"
            ]
          },
          "execution_count": 20,
          "metadata": {},
          "output_type": "execute_result"
        }
      ],
      "source": [
        "#english in entire dataset\n",
        "count = 0\n",
        "for i in music_lyrics['ft-lang']:\n",
        "  if(i == 'en'):\n",
        "    count += 1\n",
        "print(count)\n",
        "print((count/len(music_lyrics['ft-lang'])) * 100)\n",
        "len(music_lyrics['ft-lang'])"
      ]
    },
    {
      "cell_type": "code",
      "execution_count": null,
      "metadata": {
        "id": "QNzovyPhpsqZ"
      },
      "outputs": [],
      "source": [
        "import matplotlib.pyplot as plt\n",
        "import seaborn as sns"
      ]
    },
    {
      "cell_type": "code",
      "execution_count": null,
      "metadata": {
        "id": "luJk3_olYqpl"
      },
      "outputs": [],
      "source": [
        "from sklearn.metrics import accuracy_score"
      ]
    },
    {
      "cell_type": "code",
      "execution_count": null,
      "metadata": {
        "id": "39erM6wzYg64"
      },
      "outputs": [],
      "source": [
        "from collections import Counter\n",
        "\n",
        "def plot_most_freq_words(text):\n",
        "  # try changing to visualize more or less words\n",
        "  num_words = 5\n",
        "\n",
        "  # We can use Counter to find the most frequent words in all our titles!\n",
        "  words = [_[0] for _ in Counter(text).most_common(num_words)]\n",
        "  frequency = [_[1] for _ in Counter(text).most_common(num_words)]\n",
        "\n",
        "  # Making our plot look nice!\n",
        "  plt.figure(figsize=(8,6));\n",
        "  ax = sns.barplot(x=frequency, y=words)\n",
        "  ax.spines['top'].set_visible(False)\n",
        "  ax.spines['right'].set_visible(False)\n",
        "  plt.title(\"Most frequent words in all songs\");\n",
        "  plt.xlabel(\"Frequency\", fontsize=14);\n",
        "  plt.yticks(fontsize=14);\n",
        "  plt.xticks(fontsize=14);"
      ]
    },
    {
      "cell_type": "code",
      "execution_count": null,
      "metadata": {
        "id": "LkWkLbiWQoH_"
      },
      "outputs": [],
      "source": [
        "from sklearn.feature_extraction.text import CountVectorizer\n",
        "from numpy import dot\n",
        "from numpy.linalg import norm\n",
        "from sklearn.metrics.pairwise import cosine_similarity"
      ]
    },
    {
      "cell_type": "code",
      "execution_count": null,
      "metadata": {
        "colab": {
          "base_uri": "https://localhost:8080/"
        },
        "id": "UiA9BaHqRFte",
        "outputId": "63a6876e-02d6-4811-9a55-2536cdb2a0ea"
      },
      "outputs": [
        {
          "name": "stdout",
          "output_type": "stream",
          "text": [
            "2023-06-18 05:40:25.929700: W tensorflow/compiler/tf2tensorrt/utils/py_utils.cc:38] TF-TRT Warning: Could not find TensorRT\n",
            "Looking in indexes: https://pypi.org/simple, https://us-python.pkg.dev/colab-wheels/public/simple/\n",
            "Collecting en-core-web-md==3.5.0\n",
            "  Downloading https://github.com/explosion/spacy-models/releases/download/en_core_web_md-3.5.0/en_core_web_md-3.5.0-py3-none-any.whl (42.8 MB)\n",
            "\u001b[2K     \u001b[90m━━━━━━━━━━━━━━━━━━━━━━━━━━━━━━━━━━━━━━━━\u001b[0m \u001b[32m42.8/42.8 MB\u001b[0m \u001b[31m16.5 MB/s\u001b[0m eta \u001b[36m0:00:00\u001b[0m\n",
            "\u001b[?25hRequirement already satisfied: spacy<3.6.0,>=3.5.0 in /usr/local/lib/python3.10/dist-packages (from en-core-web-md==3.5.0) (3.5.2)\n",
            "Requirement already satisfied: spacy-legacy<3.1.0,>=3.0.11 in /usr/local/lib/python3.10/dist-packages (from spacy<3.6.0,>=3.5.0->en-core-web-md==3.5.0) (3.0.12)\n",
            "Requirement already satisfied: spacy-loggers<2.0.0,>=1.0.0 in /usr/local/lib/python3.10/dist-packages (from spacy<3.6.0,>=3.5.0->en-core-web-md==3.5.0) (1.0.4)\n",
            "Requirement already satisfied: murmurhash<1.1.0,>=0.28.0 in /usr/local/lib/python3.10/dist-packages (from spacy<3.6.0,>=3.5.0->en-core-web-md==3.5.0) (1.0.9)\n",
            "Requirement already satisfied: cymem<2.1.0,>=2.0.2 in /usr/local/lib/python3.10/dist-packages (from spacy<3.6.0,>=3.5.0->en-core-web-md==3.5.0) (2.0.7)\n",
            "Requirement already satisfied: preshed<3.1.0,>=3.0.2 in /usr/local/lib/python3.10/dist-packages (from spacy<3.6.0,>=3.5.0->en-core-web-md==3.5.0) (3.0.8)\n",
            "Requirement already satisfied: thinc<8.2.0,>=8.1.8 in /usr/local/lib/python3.10/dist-packages (from spacy<3.6.0,>=3.5.0->en-core-web-md==3.5.0) (8.1.9)\n",
            "Requirement already satisfied: wasabi<1.2.0,>=0.9.1 in /usr/local/lib/python3.10/dist-packages (from spacy<3.6.0,>=3.5.0->en-core-web-md==3.5.0) (1.1.1)\n",
            "Requirement already satisfied: srsly<3.0.0,>=2.4.3 in /usr/local/lib/python3.10/dist-packages (from spacy<3.6.0,>=3.5.0->en-core-web-md==3.5.0) (2.4.6)\n",
            "Requirement already satisfied: catalogue<2.1.0,>=2.0.6 in /usr/local/lib/python3.10/dist-packages (from spacy<3.6.0,>=3.5.0->en-core-web-md==3.5.0) (2.0.8)\n",
            "Requirement already satisfied: typer<0.8.0,>=0.3.0 in /usr/local/lib/python3.10/dist-packages (from spacy<3.6.0,>=3.5.0->en-core-web-md==3.5.0) (0.7.0)\n",
            "Requirement already satisfied: pathy>=0.10.0 in /usr/local/lib/python3.10/dist-packages (from spacy<3.6.0,>=3.5.0->en-core-web-md==3.5.0) (0.10.1)\n",
            "Requirement already satisfied: smart-open<7.0.0,>=5.2.1 in /usr/local/lib/python3.10/dist-packages (from spacy<3.6.0,>=3.5.0->en-core-web-md==3.5.0) (6.3.0)\n",
            "Requirement already satisfied: tqdm<5.0.0,>=4.38.0 in /usr/local/lib/python3.10/dist-packages (from spacy<3.6.0,>=3.5.0->en-core-web-md==3.5.0) (4.65.0)\n",
            "Requirement already satisfied: numpy>=1.15.0 in /usr/local/lib/python3.10/dist-packages (from spacy<3.6.0,>=3.5.0->en-core-web-md==3.5.0) (1.22.4)\n",
            "Requirement already satisfied: requests<3.0.0,>=2.13.0 in /usr/local/lib/python3.10/dist-packages (from spacy<3.6.0,>=3.5.0->en-core-web-md==3.5.0) (2.27.1)\n",
            "Requirement already satisfied: pydantic!=1.8,!=1.8.1,<1.11.0,>=1.7.4 in /usr/local/lib/python3.10/dist-packages (from spacy<3.6.0,>=3.5.0->en-core-web-md==3.5.0) (1.10.7)\n",
            "Requirement already satisfied: jinja2 in /usr/local/lib/python3.10/dist-packages (from spacy<3.6.0,>=3.5.0->en-core-web-md==3.5.0) (3.1.2)\n",
            "Requirement already satisfied: setuptools in /usr/local/lib/python3.10/dist-packages (from spacy<3.6.0,>=3.5.0->en-core-web-md==3.5.0) (67.7.2)\n",
            "Requirement already satisfied: packaging>=20.0 in /usr/local/lib/python3.10/dist-packages (from spacy<3.6.0,>=3.5.0->en-core-web-md==3.5.0) (23.1)\n",
            "Requirement already satisfied: langcodes<4.0.0,>=3.2.0 in /usr/local/lib/python3.10/dist-packages (from spacy<3.6.0,>=3.5.0->en-core-web-md==3.5.0) (3.3.0)\n",
            "Requirement already satisfied: typing-extensions>=4.2.0 in /usr/local/lib/python3.10/dist-packages (from pydantic!=1.8,!=1.8.1,<1.11.0,>=1.7.4->spacy<3.6.0,>=3.5.0->en-core-web-md==3.5.0) (4.5.0)\n",
            "Requirement already satisfied: urllib3<1.27,>=1.21.1 in /usr/local/lib/python3.10/dist-packages (from requests<3.0.0,>=2.13.0->spacy<3.6.0,>=3.5.0->en-core-web-md==3.5.0) (1.26.15)\n",
            "Requirement already satisfied: certifi>=2017.4.17 in /usr/local/lib/python3.10/dist-packages (from requests<3.0.0,>=2.13.0->spacy<3.6.0,>=3.5.0->en-core-web-md==3.5.0) (2022.12.7)\n",
            "Requirement already satisfied: charset-normalizer~=2.0.0 in /usr/local/lib/python3.10/dist-packages (from requests<3.0.0,>=2.13.0->spacy<3.6.0,>=3.5.0->en-core-web-md==3.5.0) (2.0.12)\n",
            "Requirement already satisfied: idna<4,>=2.5 in /usr/local/lib/python3.10/dist-packages (from requests<3.0.0,>=2.13.0->spacy<3.6.0,>=3.5.0->en-core-web-md==3.5.0) (3.4)\n",
            "Requirement already satisfied: blis<0.8.0,>=0.7.8 in /usr/local/lib/python3.10/dist-packages (from thinc<8.2.0,>=8.1.8->spacy<3.6.0,>=3.5.0->en-core-web-md==3.5.0) (0.7.9)\n",
            "Requirement already satisfied: confection<1.0.0,>=0.0.1 in /usr/local/lib/python3.10/dist-packages (from thinc<8.2.0,>=8.1.8->spacy<3.6.0,>=3.5.0->en-core-web-md==3.5.0) (0.0.4)\n",
            "Requirement already satisfied: click<9.0.0,>=7.1.1 in /usr/local/lib/python3.10/dist-packages (from typer<0.8.0,>=0.3.0->spacy<3.6.0,>=3.5.0->en-core-web-md==3.5.0) (8.1.3)\n",
            "Requirement already satisfied: MarkupSafe>=2.0 in /usr/local/lib/python3.10/dist-packages (from jinja2->spacy<3.6.0,>=3.5.0->en-core-web-md==3.5.0) (2.1.2)\n",
            "Installing collected packages: en-core-web-md\n",
            "Successfully installed en-core-web-md-3.5.0\n",
            "\u001b[38;5;2m✔ Download and installation successful\u001b[0m\n",
            "You can now load the package via spacy.load('en_core_web_md')\n"
          ]
        }
      ],
      "source": [
        "import spacy\n",
        "from spacy.lang.en.stop_words import STOP_WORDS\n",
        "!python -m spacy download en_core_web_md\n",
        "import en_core_web_md\n",
        "\n",
        "text_to_nlp = en_core_web_md.load() # loading in the model"
      ]
    },
    {
      "cell_type": "code",
      "execution_count": null,
      "metadata": {
        "id": "4XCCeG2zROFu"
      },
      "outputs": [],
      "source": [
        "def tokenize_vecs(text):\n",
        "    clean_tokens = []\n",
        "    for token in text_to_nlp(text):\n",
        "        if (not token.is_stop) & (token.lemma_ != '-PRON-') & (not token.is_punct):\n",
        "          # -PRON- is a special all inclusive \"lemma\" spaCy uses for any pronoun, we want to exclude these\n",
        "            clean_tokens.append(token)\n",
        "    return np.array(clean_tokens)"
      ]
    },
    {
      "cell_type": "code",
      "execution_count": null,
      "metadata": {
        "id": "mcPWHZuNzG4k"
      },
      "outputs": [],
      "source": [
        "def make_song_vec(song):\n",
        "   title = tokenize_vecs(\" \".join(song)) # returns cleaned list of spacy tokens\n",
        "   title_vec = [0]*300\n",
        "   for word in title:\n",
        "      title_vec += word.vector\n",
        "   if np.abs(np.sum(title_vec)) > 0:\n",
        "      title_vec = title_vec / len(title)\n",
        "   return title_vec"
      ]
    },
    {
      "cell_type": "markdown",
      "metadata": {
        "id": "VbLaItV_cu7u"
      },
      "source": [
        "## Read in data and display most frequent words"
      ]
    },
    {
      "cell_type": "code",
      "execution_count": null,
      "metadata": {
        "id": "iVH3Yf_vpMY-"
      },
      "outputs": [],
      "source": [
        "def simple_tokenizer(lyrics):\n",
        "  return lyrics.split()"
      ]
    },
    {
      "cell_type": "code",
      "execution_count": null,
      "metadata": {
        "colab": {
          "base_uri": "https://localhost:8080/"
        },
        "id": "PfmhuJb3SjHY",
        "outputId": "1424d096-11d8-43cb-a1ef-08da7fb2e361"
      },
      "outputs": [
        {
          "name": "stderr",
          "output_type": "stream",
          "text": [
            "<ipython-input-29-1ba1c54ccc54>:1: SettingWithCopyWarning: \n",
            "A value is trying to be set on a copy of a slice from a DataFrame.\n",
            "Try using .loc[row_indexer,col_indexer] = value instead\n",
            "\n",
            "See the caveats in the documentation: https://pandas.pydata.org/pandas-docs/stable/user_guide/indexing.html#returning-a-view-versus-a-copy\n",
            "  top_ten['words'] = top_ten['lyrics'].apply(simple_tokenizer)\n"
          ]
        }
      ],
      "source": [
        "top_ten['words'] = top_ten['lyrics'].apply(simple_tokenizer)"
      ]
    },
    {
      "cell_type": "code",
      "execution_count": null,
      "metadata": {
        "colab": {
          "base_uri": "https://localhost:8080/",
          "height": 574
        },
        "id": "o5P5SSUPP_he",
        "outputId": "f645c50f-ed05-4b21-c9fd-a3adc6026ea4"
      },
      "outputs": [
        {
          "data": {
            "image/png": "[encoded data removed]",
            "text/plain": [
              "<Figure size 800x600 with 1 Axes>"
            ]
          },
          "metadata": {},
          "output_type": "display_data"
        }
      ],
      "source": [
        "plot_most_freq_words([item for sublist in top_ten['words'] for item in sublist])"
      ]
    },
    {
      "cell_type": "code",
      "execution_count": null,
      "metadata": {
        "colab": {
          "base_uri": "https://localhost:8080/",
          "height": 574
        },
        "id": "OMzcO_ljQKwn",
        "outputId": "b8edf6a0-92e6-4767-bb46-42c474275664"
      },
      "outputs": [
        {
          "data": {
            "image/png": "[encoded data removed]",
            "text/plain": [
              "<Figure size 800x600 with 1 Axes>"
            ]
          },
          "metadata": {},
          "output_type": "display_data"
        }
      ],
      "source": [
        "#spanish\n",
        "plot_most_freq_words([item for sublist in top_ten[top_ten['ft-lang']=='es']['words'] for item in sublist])"
      ]
    },
    {
      "cell_type": "code",
      "execution_count": null,
      "metadata": {
        "colab": {
          "base_uri": "https://localhost:8080/",
          "height": 574
        },
        "id": "QoSU4FGec3ML",
        "outputId": "861af102-0c28-4f0b-cbe1-3dbadecddd26"
      },
      "outputs": [
        {
          "data": {
            "image/png": "[encoded data removed]",
            "text/plain": [
              "<Figure size 800x600 with 1 Axes>"
            ]
          },
          "metadata": {},
          "output_type": "display_data"
        }
      ],
      "source": [
        "#italian\n",
        "plot_most_freq_words([item for sublist in top_ten[top_ten['ft-lang']== 'it']['words']for item in sublist])"
      ]
    },
    {
      "cell_type": "code",
      "execution_count": null,
      "metadata": {
        "colab": {
          "base_uri": "https://localhost:8080/",
          "height": 574
        },
        "id": "qLl_KCEEqDoA",
        "outputId": "20fce5e5-e59a-4c93-e2ad-ff4d6bd7217d"
      },
      "outputs": [
        {
          "data": {
            "image/png": "[encoded data removed]",
            "text/plain": [
              "<Figure size 800x600 with 1 Axes>"
            ]
          },
          "metadata": {},
          "output_type": "display_data"
        }
      ],
      "source": [
        "#dutch\n",
        "plot_most_freq_words([item for sublist in top_ten[top_ten['ft-lang']=='nl']['words'] for item in sublist])"
      ]
    },
    {
      "cell_type": "code",
      "execution_count": null,
      "metadata": {
        "colab": {
          "base_uri": "https://localhost:8080/",
          "height": 574
        },
        "id": "YvtKyLnmMcTY",
        "outputId": "b9a14449-3e4a-4cd3-fda2-39cc380e3cda"
      },
      "outputs": [
        {
          "data": {
            "image/png": "[encoded data removed]",
            "text/plain": [
              "<Figure size 800x600 with 1 Axes>"
            ]
          },
          "metadata": {},
          "output_type": "display_data"
        }
      ],
      "source": [
        "#english\n",
        "plot_most_freq_words([item for sublist in top_ten[top_ten['ft-lang']=='en']['words'] for item in sublist])"
      ]
    },
    {
      "cell_type": "code",
      "execution_count": null,
      "metadata": {
        "colab": {
          "base_uri": "https://localhost:8080/"
        },
        "id": "Fu96B_ICoOQq",
        "outputId": "6804d121-3f11-437e-f2c5-3c8669a5de87"
      },
      "outputs": [
        {
          "data": {
            "text/plain": [
              "Index(['artist_name', 'track_name', 'release_date', 'genre', 'lyrics', 'len',\n",
              "       'dating', 'violence', 'world/life', 'night/time', 'shake the audience',\n",
              "       'family/gospel', 'romantic', 'communication', 'obscene', 'music',\n",
              "       'movement/places', 'light/visual perceptions', 'family/spiritual',\n",
              "       'like/girls', 'sadness', 'feelings', 'danceability', 'loudness',\n",
              "       'acousticness', 'instrumentalness', 'valence', 'energy', 'topic', 'age',\n",
              "       'ft-lang', 'love', 'words'],\n",
              "      dtype='object')"
            ]
          },
          "execution_count": 34,
          "metadata": {},
          "output_type": "execute_result"
        }
      ],
      "source": [
        "top_ten.columns"
      ]
    },
    {
      "cell_type": "code",
      "execution_count": null,
      "metadata": {
        "id": "Qr6QPdtaoigR"
      },
      "outputs": [],
      "source": [
        "it = top_ten[top_ten['ft-lang']=='it']['love']\n",
        "es = top_ten[top_ten['ft-lang']=='es']['love']"
      ]
    },
    {
      "cell_type": "code",
      "execution_count": null,
      "metadata": {
        "id": "ROBAmis8o0-L"
      },
      "outputs": [],
      "source": [
        "import matplotlib.pyplot as plt"
      ]
    },
    {
      "cell_type": "code",
      "execution_count": null,
      "metadata": {
        "colab": {
          "base_uri": "https://localhost:8080/",
          "height": 517
        },
        "id": "dNmw11IkowzQ",
        "outputId": "1e5191da-73f0-4f17-c6a0-6f3d844806b2"
      },
      "outputs": [
        {
          "data": {
            "text/plain": [
              "(array([167.,  65.,  47.,  22.,   7.,   7.,   5.,   3.,   1.,   1.]),\n",
              " array([-2.0416833 , -0.73980002,  0.56208326,  1.86396654,  3.16584982,\n",
              "         4.4677331 ,  5.76961638,  7.07149966,  8.37338294,  9.67526622,\n",
              "        10.9771495 ]),\n",
              " <BarContainer object of 10 artists>)"
            ]
          },
          "execution_count": 37,
          "metadata": {},
          "output_type": "execute_result"
        },
        {
          "data": {
            "image/png": "[encoded data removed]",
            "text/plain": [
              "<Figure size 640x480 with 1 Axes>"
            ]
          },
          "metadata": {},
          "output_type": "display_data"
        }
      ],
      "source": [
        "plt.hist(it)"
      ]
    },
    {
      "cell_type": "code",
      "execution_count": null,
      "metadata": {
        "colab": {
          "base_uri": "https://localhost:8080/",
          "height": 517
        },
        "id": "MUI54v6NpInA",
        "outputId": "3b85cf12-39b9-4167-be77-cfc6bc294d1f"
      },
      "outputs": [
        {
          "data": {
            "text/plain": [
              "(array([167.,  59.,  49.,  46.,  33.,  18.,   6.,   4.,   2.,   3.]),\n",
              " array([-2.03774746, -0.92862019,  0.18050708,  1.28963436,  2.39876163,\n",
              "         3.5078889 ,  4.61701617,  5.72614345,  6.83527072,  7.94439799,\n",
              "         9.05352527]),\n",
              " <BarContainer object of 10 artists>)"
            ]
          },
          "execution_count": 38,
          "metadata": {},
          "output_type": "execute_result"
        },
        {
          "data": {
            "image/png": "[encoded data removed]",
            "text/plain": [
              "<Figure size 640x480 with 1 Axes>"
            ]
          },
          "metadata": {},
          "output_type": "display_data"
        }
      ],
      "source": [
        "plt.hist(es)"
      ]
    },
    {
      "cell_type": "code",
      "execution_count": null,
      "metadata": {
        "id": "s07qH1fF2WVo"
      },
      "outputs": [],
      "source": [
        "# We simulate these two samples through bootstrapping\n",
        "bootstrap_samples = 10000 # Step 1\n",
        "es_means = []\n",
        "it_means = []\n",
        "difference_means = []\n",
        "\n",
        "# Create our bootstrap samples\n",
        "for i in np.arange(bootstrap_samples):\n",
        "    # Step 2\n",
        "    es_sample_mean = np.mean(es.sample(len(es), replace=True))\n",
        "    it_sample_mean = np.mean(it.sample(len(it), replace=True))\n",
        "\n",
        "    # Step 3\n",
        "    es_means.append(es_sample_mean)\n",
        "    it_means.append(it_sample_mean)\n",
        "\n",
        "    # Here we can also take the difference of the 2 sample means which will be useful later on for calculating the p-value\n",
        "    difference_means.append(es_sample_mean - it_sample_mean)"
      ]
    },
    {
      "cell_type": "code",
      "execution_count": null,
      "metadata": {
        "colab": {
          "base_uri": "https://localhost:8080/",
          "height": 452
        },
        "id": "jSZ7qggv2WVp",
        "outputId": "849356b5-5cdb-4259-f43b-f904783d0f1e"
      },
      "outputs": [
        {
          "data": {
            "image/png": "[encoded data removed]",
            "text/plain": [
              "<Figure size 640x480 with 1 Axes>"
            ]
          },
          "metadata": {},
          "output_type": "display_data"
        }
      ],
      "source": [
        "# Let's plot our bootstrapped means\n",
        "plt.title('Distribution of Bootstrapped Love Scores')\n",
        "plt.hist(es_means, alpha=0.5, label='Spanish', bins=30)\n",
        "plt.hist(it_means, alpha=0.5, label='Italian', bins=30)\n",
        "plt.legend()\n",
        "plt.show()"
      ]
    },
    {
      "cell_type": "code",
      "execution_count": null,
      "metadata": {
        "colab": {
          "base_uri": "https://localhost:8080/"
        },
        "id": "M8VuItPNC7Ko",
        "outputId": "b4092ab9-907a-4c36-f24b-72c8890b4d1b"
      },
      "outputs": [
        {
          "data": {
            "text/plain": [
              "(-0.09004658093691596, 0.4882035109235509)"
            ]
          },
          "execution_count": 41,
          "metadata": {},
          "output_type": "execute_result"
        }
      ],
      "source": [
        "np.percentile(es_means, 0.5), np.percentile(es_means, 99.5)"
      ]
    },
    {
      "cell_type": "code",
      "execution_count": null,
      "metadata": {
        "colab": {
          "base_uri": "https://localhost:8080/"
        },
        "id": "MAEa7W7tC7LI",
        "outputId": "db41394e-fc9a-4f3b-cd16-04d9bc6ad523"
      },
      "outputs": [
        {
          "data": {
            "text/plain": [
              "(-0.39693824182720505, 0.23811887621872907)"
            ]
          },
          "execution_count": 42,
          "metadata": {},
          "output_type": "execute_result"
        }
      ],
      "source": [
        "np.percentile(it_means, 0.5), np.percentile(it_means, 99.5)"
      ]
    },
    {
      "cell_type": "code",
      "execution_count": null,
      "metadata": {
        "colab": {
          "base_uri": "https://localhost:8080/",
          "height": 472
        },
        "id": "YaTvcIHL2WVp",
        "outputId": "6d8d8a30-6c2b-4a40-936f-3b78c739c7ac"
      },
      "outputs": [
        {
          "data": {
            "image/png": "[encoded data removed]",
            "text/plain": [
              "<Figure size 640x480 with 1 Axes>"
            ]
          },
          "metadata": {},
          "output_type": "display_data"
        }
      ],
      "source": [
        "plt.title('Distribution of Bootstrapped Differences in Means')\n",
        "plt.hist(difference_means, bins=30)\n",
        "plt.ylabel('Frequency')\n",
        "plt.xlabel('SpanishLove - ItalianLove')\n",
        "plt.axvline(x=0, color='r')\n",
        "plt.show()"
      ]
    },
    {
      "cell_type": "code",
      "execution_count": null,
      "metadata": {
        "colab": {
          "base_uri": "https://localhost:8080/"
        },
        "id": "YiX-H96t2WVp",
        "outputId": "2633a336-92bf-4a63-c34d-a79fbc912b5f"
      },
      "outputs": [
        {
          "data": {
            "text/plain": [
              "0.0504"
            ]
          },
          "execution_count": 44,
          "metadata": {},
          "output_type": "execute_result"
        }
      ],
      "source": [
        "sum(np.array(difference_means) < 0) / len(difference_means)"
      ]
    },
    {
      "cell_type": "code",
      "execution_count": null,
      "metadata": {
        "colab": {
          "base_uri": "https://localhost:8080/"
        },
        "id": "qsJ_VDCqvC4q",
        "outputId": "3e325eae-56ae-41a5-8a2e-2b1a9221aa88"
      },
      "outputs": [
        {
          "data": {
            "text/plain": [
              "0.2766647920208732"
            ]
          },
          "execution_count": 45,
          "metadata": {},
          "output_type": "execute_result"
        }
      ],
      "source": [
        "np.mean(difference_means)"
      ]
    },
    {
      "cell_type": "markdown",
      "metadata": {
        "id": "wZWSN_XICF_s"
      },
      "source": [
        "\n",
        "# English vs. Dutch Love"
      ]
    },
    {
      "cell_type": "code",
      "execution_count": null,
      "metadata": {
        "id": "1gCuudY9CPTO"
      },
      "outputs": [],
      "source": [
        "nl = top_ten[top_ten['ft-lang']=='nl']['love']\n",
        "en = top_ten[top_ten['ft-lang']=='en']['love']"
      ]
    },
    {
      "cell_type": "code",
      "execution_count": null,
      "metadata": {
        "id": "wrwvantgCTdU"
      },
      "outputs": [],
      "source": [
        "# We simulate these two samples through bootstrapping\n",
        "bootstrap_samples = 10000 # Step 1\n",
        "nl_means = []\n",
        "en_means = []\n",
        "difference_means3 = []\n",
        "\n",
        "# Create our bootstrap samples\n",
        "for i in np.arange(bootstrap_samples):\n",
        "    # Step 2\n",
        "    nl_sample_mean = np.mean(nl.sample(len(nl), replace=True))\n",
        "    en_sample_mean = np.mean(en.sample(len(en), replace=True))\n",
        "\n",
        "    # Step 3\n",
        "    nl_means.append(nl_sample_mean)\n",
        "    en_means.append(en_sample_mean)\n",
        "\n",
        "    # Here we can also take the difference of the 2 sample means which will be useful later on for calculating the p-value\n",
        "    difference_means3.append(nl_sample_mean - en_sample_mean)"
      ]
    },
    {
      "cell_type": "code",
      "execution_count": null,
      "metadata": {
        "colab": {
          "base_uri": "https://localhost:8080/",
          "height": 452
        },
        "id": "Vnm_CpeHCqfs",
        "outputId": "bba44774-fd0e-44f2-e0c8-e01394fc5cc5"
      },
      "outputs": [
        {
          "data": {
            "image/png": "[encoded data removed]",
            "text/plain": [
              "<Figure size 640x480 with 1 Axes>"
            ]
          },
          "metadata": {},
          "output_type": "display_data"
        }
      ],
      "source": [
        "plt.title('Distribution of Bootstrapped Love Scores')\n",
        "plt.hist(nl_means, alpha=0.5, label='Dutch', bins=30)\n",
        "plt.hist(en_means, alpha=0.5, label='English', bins=30)\n",
        "plt.legend()\n",
        "plt.show()"
      ]
    },
    {
      "cell_type": "code",
      "execution_count": null,
      "metadata": {
        "colab": {
          "base_uri": "https://localhost:8080/",
          "height": 472
        },
        "id": "H1bZhHgbCxqF",
        "outputId": "378cec1f-b427-4f43-b505-b91340350020"
      },
      "outputs": [
        {
          "data": {
            "image/png": "[encoded data removed]",
            "text/plain": [
              "<Figure size 640x480 with 1 Axes>"
            ]
          },
          "metadata": {},
          "output_type": "display_data"
        }
      ],
      "source": [
        "plt.title('Distribution of Bootstrapped Differences in Means')\n",
        "plt.hist(difference_means3, bins=30)\n",
        "plt.ylabel('Frequency')\n",
        "plt.xlabel('DutchLove - EnglishLove')\n",
        "plt.axvline(x=0, color='r')\n",
        "plt.show()"
      ]
    },
    {
      "cell_type": "code",
      "execution_count": null,
      "metadata": {
        "colab": {
          "base_uri": "https://localhost:8080/"
        },
        "id": "46GzCvOaC2f9",
        "outputId": "cdfcb834-9178-46b7-c92a-c2ac1bbeda1d"
      },
      "outputs": [
        {
          "data": {
            "text/plain": [
              "0.195"
            ]
          },
          "execution_count": 58,
          "metadata": {},
          "output_type": "execute_result"
        }
      ],
      "source": [
        "sum(np.array(difference_means3) < 0) / len(difference_means3)"
      ]
    },
    {
      "cell_type": "code",
      "execution_count": null,
      "metadata": {
        "colab": {
          "base_uri": "https://localhost:8080/"
        },
        "id": "NCoEr7mgDUKW",
        "outputId": "69016d0c-af61-45c2-91a1-176cb2c3f2e7"
      },
      "outputs": [
        {
          "data": {
            "text/plain": [
              "0.13803656678290122"
            ]
          },
          "execution_count": 60,
          "metadata": {},
          "output_type": "execute_result"
        }
      ],
      "source": [
        "np.mean(difference_means3)"
      ]
    },
    {
      "cell_type": "markdown",
      "metadata": {
        "id": "SbfXNNgfPGlc"
      },
      "source": [
        "# Dating scores analysis by language\n"
      ]
    },
    {
      "cell_type": "code",
      "execution_count": null,
      "metadata": {
        "id": "cmfrvWfZPWrq"
      },
      "outputs": [],
      "source": [
        "fr = top_ten[top_ten['ft-lang']=='fr']['love']\n",
        "it = top_ten[top_ten['ft-lang']=='it']['love']"
      ]
    },
    {
      "cell_type": "code",
      "execution_count": null,
      "metadata": {
        "id": "PI6zzqc1PCU6"
      },
      "outputs": [],
      "source": [
        "# We simulate these two samples through bootstrapping\n",
        "bootstrap_samples = 10000 # Step 1\n",
        "fr_means = []\n",
        "it_means = []\n",
        "difference_means2 = []\n",
        "\n",
        "# Create our bootstrap samples\n",
        "for i in np.arange(bootstrap_samples):\n",
        "    # Step 2\n",
        "    fr_sample_mean = np.mean(es.sample(len(fr), replace=True))\n",
        "    it_sample_mean = np.mean(it.sample(len(it), replace=True))\n",
        "\n",
        "    # Step 3\n",
        "    fr_means.append(fr_sample_mean)\n",
        "    it_means.append(it_sample_mean)\n",
        "\n",
        "    # Here we can also take the difference of the 2 sample means which will be useful later on for calculating the p-value\n",
        "    difference_means2.append(fr_sample_mean - it_sample_mean)"
      ]
    },
    {
      "cell_type": "code",
      "execution_count": null,
      "metadata": {
        "colab": {
          "base_uri": "https://localhost:8080/",
          "height": 452
        },
        "id": "qlwXa5xVP6gs",
        "outputId": "81f83c73-be39-4ee9-dcb6-4e78c06b2e99"
      },
      "outputs": [
        {
          "data": {
            "image/png": "[encoded data removed]",
            "text/plain": [
              "<Figure size 640x480 with 1 Axes>"
            ]
          },
          "metadata": {},
          "output_type": "display_data"
        }
      ],
      "source": [
        "plt.title('Distribution of Bootstrapped Love Scores')\n",
        "plt.hist(fr_means, alpha=0.5, label='French', bins=30)\n",
        "plt.hist(it_means, alpha=0.5, label='Italian', bins=30)\n",
        "plt.legend()\n",
        "plt.show()"
      ]
    },
    {
      "cell_type": "code",
      "execution_count": null,
      "metadata": {
        "colab": {
          "base_uri": "https://localhost:8080/",
          "height": 472
        },
        "id": "FhvbYZKuQW-v",
        "outputId": "62c5737e-25da-4026-e35e-e77d1a3784e9"
      },
      "outputs": [
        {
          "data": {
            "image/png": "[encoded data removed]",
            "text/plain": [
              "<Figure size 640x480 with 1 Axes>"
            ]
          },
          "metadata": {},
          "output_type": "display_data"
        }
      ],
      "source": [
        "plt.title('Distribution of Bootstrapped Differences in Means')\n",
        "plt.hist(difference_means2, bins=30)\n",
        "plt.ylabel('Frequency')\n",
        "plt.xlabel('FrenchLove - ItalianLove')\n",
        "plt.axvline(x=0, color='r')\n",
        "plt.show()"
      ]
    },
    {
      "cell_type": "code",
      "execution_count": null,
      "metadata": {
        "colab": {
          "base_uri": "https://localhost:8080/"
        },
        "id": "lJR9JnxcTvfX",
        "outputId": "1af472a6-b7f5-4956-a07b-e50aee8c89e5"
      },
      "outputs": [
        {
          "data": {
            "text/plain": [
              "0.0382"
            ]
          },
          "execution_count": 51,
          "metadata": {},
          "output_type": "execute_result"
        }
      ],
      "source": [
        "sum(np.array(difference_means2) < 0) / len(difference_means2)"
      ]
    },
    {
      "cell_type": "markdown",
      "metadata": {
        "id": "Zt0-_D99c0Q-"
      },
      "source": [
        "## CountVectorizer"
      ]
    },
    {
      "cell_type": "code",
      "execution_count": null,
      "metadata": {
        "id": "WzoXfJ1nBntQ"
      },
      "outputs": [],
      "source": [
        "from sklearn.model_selection import train_test_split"
      ]
    },
    {
      "cell_type": "code",
      "execution_count": null,
      "metadata": {
        "id": "Qryd0cgrwfyH"
      },
      "outputs": [],
      "source": [
        "mu = np.mean(music_lyrics['dating'])\n",
        "sigma = np.std(music_lyrics['dating'])\n",
        "music_lyrics['dating_std'] = (music_lyrics['dating'] - mu) / sigma"
      ]
    },
    {
      "cell_type": "code",
      "execution_count": null,
      "metadata": {
        "id": "FM9mThDZj5ri"
      },
      "outputs": [],
      "source": [
        "mu = np.mean(top_ten['dating'])\n",
        "sigma = np.std(top_ten['dating'])\n",
        "top_ten['dating_std'] = (top_ten['dating'] - mu) / sigma"
      ]
    },
    {
      "cell_type": "code",
      "execution_count": null,
      "metadata": {
        "id": "AO2Gt9iBBViL"
      },
      "outputs": [],
      "source": [
        "X_train, X_test, y_train, y_test = train_test_split(top_ten['lyrics'], top_ten['dating_std'], train_size=0.8)"
      ]
    },
    {
      "cell_type": "code",
      "execution_count": null,
      "metadata": {
        "id": "6fVKMqlWtork"
      },
      "outputs": [],
      "source": [
        "X_train"
      ]
    },
    {
      "cell_type": "code",
      "execution_count": null,
      "metadata": {
        "id": "Nz0spmTBt555"
      },
      "outputs": [],
      "source": [
        "y_train"
      ]
    },
    {
      "cell_type": "code",
      "execution_count": null,
      "metadata": {
        "id": "F9uIm3MwqsqB"
      },
      "outputs": [],
      "source": [
        "temp = CountVectorizer(ngram_range=(1,1))\n",
        "big_song = temp.fit_transform([\" \".join(X_train)])"
      ]
    },
    {
      "cell_type": "code",
      "execution_count": null,
      "metadata": {
        "id": "XjIP01dnrOGr"
      },
      "outputs": [],
      "source": [
        "big_song.shape"
      ]
    },
    {
      "cell_type": "code",
      "execution_count": null,
      "metadata": {
        "id": "QZSzBdAUsKMo"
      },
      "outputs": [],
      "source": [
        "counts = big_song.todense()"
      ]
    },
    {
      "cell_type": "code",
      "execution_count": null,
      "metadata": {
        "id": "32al_ZhrsdwI"
      },
      "outputs": [],
      "source": [
        "np.sum(counts > 7)"
      ]
    },
    {
      "cell_type": "code",
      "execution_count": null,
      "metadata": {
        "id": "H8jgxmKaqkxk"
      },
      "outputs": [],
      "source": [
        "i=1\n",
        "cv_model = CountVectorizer(ngram_range=(i,i), max_features=9571)\n",
        "data = cv_model.fit_transform(X_train)\n",
        "features = cv_model.get_feature_names_out()"
      ]
    },
    {
      "cell_type": "code",
      "execution_count": null,
      "metadata": {
        "id": "sMV0qyCaqnOw"
      },
      "outputs": [],
      "source": [
        "len(features)"
      ]
    },
    {
      "cell_type": "code",
      "execution_count": null,
      "metadata": {
        "id": "UnAlYzXnt-3R"
      },
      "outputs": [],
      "source": [
        "from sklearn.linear_model import LinearRegression"
      ]
    },
    {
      "cell_type": "code",
      "execution_count": null,
      "metadata": {
        "id": "BOghy3njuZIy"
      },
      "outputs": [],
      "source": [
        "baseline = LinearRegression()"
      ]
    },
    {
      "cell_type": "code",
      "execution_count": null,
      "metadata": {
        "id": "DE1q2P2GuekI"
      },
      "outputs": [],
      "source": [
        "baseline = baseline.fit(data, y_train)"
      ]
    },
    {
      "cell_type": "code",
      "execution_count": null,
      "metadata": {
        "id": "vFqfmBeyt59e"
      },
      "outputs": [],
      "source": [
        "words = list(zip(features.tolist(), baseline.coef_.tolist()))\n",
        "words.sort(key=lambda x: x[1], reverse=False)\n",
        "words"
      ]
    },
    {
      "cell_type": "code",
      "execution_count": null,
      "metadata": {
        "id": "53wQGzW2vXmi"
      },
      "outputs": [],
      "source": [
        "test_counts = cv_model.transform(X_test)"
      ]
    },
    {
      "cell_type": "code",
      "execution_count": null,
      "metadata": {
        "id": "UcHmpS99vjg4"
      },
      "outputs": [],
      "source": [
        "y_pred = baseline.predict(test_counts)"
      ]
    },
    {
      "cell_type": "code",
      "execution_count": null,
      "metadata": {
        "id": "_dOiCjxhu8Ud"
      },
      "outputs": [],
      "source": [
        "# mean error which should be close to 0\n",
        "np.mean(y_pred - y_test)"
      ]
    },
    {
      "cell_type": "code",
      "execution_count": null,
      "metadata": {
        "id": "zfEYxLWGv9I7"
      },
      "outputs": [],
      "source": [
        "# mean squared error (MSE)\n",
        "np.mean((y_pred - y_test)*(y_pred - y_test))"
      ]
    },
    {
      "cell_type": "code",
      "execution_count": null,
      "metadata": {
        "id": "vPUaKTDRwIPO"
      },
      "outputs": [],
      "source": [
        "# mean absolute error (MAE)\n",
        "np.mean(np.abs(y_pred - y_test))"
      ]
    },
    {
      "cell_type": "code",
      "execution_count": null,
      "metadata": {
        "id": "Pk0r3M3LwU4Y"
      },
      "outputs": [],
      "source": [
        "y_test"
      ]
    },
    {
      "cell_type": "code",
      "execution_count": null,
      "metadata": {
        "id": "9TjZscANs-X4"
      },
      "outputs": [],
      "source": [
        "plt.hist(top_ten['dating']);"
      ]
    },
    {
      "cell_type": "markdown",
      "metadata": {
        "id": "iK79Mp_dc3Yb"
      },
      "source": [
        "## word2vec"
      ]
    },
    {
      "cell_type": "code",
      "execution_count": null,
      "metadata": {
        "id": "guL2WJ42Re2O"
      },
      "outputs": [],
      "source": [
        "w2v = X_train[:100].apply(make_song_vec)"
      ]
    },
    {
      "cell_type": "code",
      "execution_count": null,
      "metadata": {
        "id": "JC46blV9axDD"
      },
      "outputs": [],
      "source": [
        "w2v = np.array(w2v.tolist())"
      ]
    },
    {
      "cell_type": "code",
      "execution_count": null,
      "metadata": {
        "id": "6ActJeiaeEkh"
      },
      "outputs": [],
      "source": [
        "w2v.shape"
      ]
    },
    {
      "cell_type": "code",
      "execution_count": null,
      "metadata": {
        "id": "G91QnTUHycBF"
      },
      "outputs": [],
      "source": [
        "w2v_model = LinearRegression()"
      ]
    },
    {
      "cell_type": "code",
      "execution_count": null,
      "metadata": {
        "id": "6WqmnmlBycBH"
      },
      "outputs": [],
      "source": [
        "w2v_model = w2v_model.fit(w2v, y_train[:100])"
      ]
    },
    {
      "cell_type": "code",
      "execution_count": null,
      "metadata": {
        "id": "5Y_pxfFlytKp"
      },
      "outputs": [],
      "source": [
        "w2v_test = X_test[:100].apply(make_song_vec)"
      ]
    },
    {
      "cell_type": "code",
      "execution_count": null,
      "metadata": {
        "id": "MMzUmWSVeduK"
      },
      "outputs": [],
      "source": [
        "w2v_test = np.array(w2v_test.tolist())"
      ]
    },
    {
      "cell_type": "code",
      "execution_count": null,
      "metadata": {
        "id": "hpoUa3uElEY3"
      },
      "outputs": [],
      "source": [
        "w2v_test.shape"
      ]
    },
    {
      "cell_type": "code",
      "execution_count": null,
      "metadata": {
        "id": "SaVouNTNycBM"
      },
      "outputs": [],
      "source": [
        "y_pred = w2v_model.predict(w2v_test)"
      ]
    },
    {
      "cell_type": "code",
      "execution_count": null,
      "metadata": {
        "id": "puCOURoylN__"
      },
      "outputs": [],
      "source": [
        "y_pred[94]"
      ]
    },
    {
      "cell_type": "code",
      "execution_count": null,
      "metadata": {
        "id": "IrUnWh5slUiI"
      },
      "outputs": [],
      "source": [
        "np.mean(y_test[:100])"
      ]
    },
    {
      "cell_type": "code",
      "execution_count": null,
      "metadata": {
        "id": "SCWbM9vCycBN"
      },
      "outputs": [],
      "source": [
        "# mean error which should be close to 0\n",
        "np.mean(y_pred - y_test[:100])"
      ]
    },
    {
      "cell_type": "code",
      "execution_count": null,
      "metadata": {
        "id": "1AzybVrOycBP"
      },
      "outputs": [],
      "source": [
        "# mean squared error (MSE)\n",
        "np.mean((y_pred - y_test[:100])*(y_pred - y_test[:100]))"
      ]
    },
    {
      "cell_type": "code",
      "execution_count": null,
      "metadata": {
        "id": "fb-QN0naycBR"
      },
      "outputs": [],
      "source": [
        "# mean absolute error (MAE)\n",
        "np.mean(np.abs(y_pred - y_test[:100]))"
      ]
    }
  ],
  "metadata": {
    "colab": {
      "collapsed_sections": [
        "bNcQatxr88Qs",
        "ysEY2FDj81ti"
      ],
      "provenance": []
    },
    "kernelspec": {
      "display_name": "Python 3",
      "name": "python3"
    },
    "language_info": {
      "name": "python"
    }
  },
  "nbformat": 4,
  "nbformat_minor": 0
}
